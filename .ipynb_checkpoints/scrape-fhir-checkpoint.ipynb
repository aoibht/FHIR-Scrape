{
 "cells": [
  {
   "cell_type": "code",
   "execution_count": 70,
   "metadata": {
    "scrolled": true
   },
   "outputs": [
    {
     "name": "stdout",
     "output_type": "stream",
     "text": [
      "\n",
      "Foundation\n",
      "Conformance\n",
      "Terminology\n",
      "Security\n",
      "Documents\n",
      "Other\n",
      "\n",
      "Foundation\n",
      "\n",
      "Base\n",
      "Individuals\n",
      "Entities #1\n",
      "Entities #2\n",
      "Workflow\n",
      "Management\n",
      "\n",
      "Base\n",
      "\n",
      "Clinical\n",
      "Summary\n",
      "Diagnostics\n",
      "Medications\n",
      "Care Provision\n",
      "Request & Response\n",
      "\n",
      "Clinical\n",
      "\n",
      "Financial\n",
      "Support\n",
      "Billing\n",
      "Payment\n",
      "General\n",
      "\n",
      "\n",
      "Financial\n",
      "\n",
      "Specialized\n",
      "Public Health & Research\n",
      "Definitional Artifacts\n",
      "Evidence-Based Medicine\n",
      "Quality Reporting & Testing\n",
      "Medication Definition\n",
      "\n",
      "Specialized\n"
     ]
    }
   ],
   "source": [
    "import requests\n",
    "from bs4 import BeautifulSoup\n",
    "\n",
    "url = 'https://www.hl7.org/fhir/resourcelist.html'\n",
    "r = requests.get(url)\n",
    "soup = BeautifulSoup(r.content, 'html.parser')\n",
    "table = BeautifulSoup(str(soup.find_all('table')))\n",
    "column_names = table.find_all(class_ = 'frm-group')\n",
    "\n",
    "for column in column_names:\n",
    "    print(column.text)\n"
   ]
  },
  {
   "cell_type": "code",
   "execution_count": 71,
   "metadata": {},
   "outputs": [
    {
     "name": "stdout",
     "output_type": "stream",
     "text": [
      "<class 'bs4.element.NavigableString'>\n"
     ]
    },
    {
     "ename": "NameError",
     "evalue": "name 'bs4' is not defined",
     "output_type": "error",
     "traceback": [
      "\u001b[0;31m---------------------------------------------------------------------------\u001b[0m",
      "\u001b[0;31mNameError\u001b[0m                                 Traceback (most recent call last)",
      "\u001b[0;32m<ipython-input-71-d21c275ff428>\u001b[0m in \u001b[0;36m<module>\u001b[0;34m\u001b[0m\n\u001b[1;32m      9\u001b[0m \u001b[0;32mfor\u001b[0m \u001b[0mresource\u001b[0m \u001b[0;32min\u001b[0m \u001b[0mcolumn_content\u001b[0m\u001b[0;34m[\u001b[0m\u001b[0;36m2\u001b[0m\u001b[0;34m]\u001b[0m\u001b[0;34m:\u001b[0m\u001b[0;34m\u001b[0m\u001b[0;34m\u001b[0m\u001b[0m\n\u001b[1;32m     10\u001b[0m     \u001b[0mprint\u001b[0m\u001b[0;34m(\u001b[0m\u001b[0mtype\u001b[0m\u001b[0;34m(\u001b[0m\u001b[0mresource\u001b[0m\u001b[0;34m)\u001b[0m\u001b[0;34m)\u001b[0m\u001b[0;34m\u001b[0m\u001b[0;34m\u001b[0m\u001b[0m\n\u001b[0;32m---> 11\u001b[0;31m     \u001b[0;32mif\u001b[0m \u001b[0misinstance\u001b[0m\u001b[0;34m(\u001b[0m\u001b[0mtype\u001b[0m\u001b[0;34m(\u001b[0m\u001b[0mresource\u001b[0m\u001b[0;34m)\u001b[0m\u001b[0;34m,\u001b[0m \u001b[0mbs4\u001b[0m\u001b[0;34m.\u001b[0m\u001b[0melement\u001b[0m\u001b[0;34m.\u001b[0m\u001b[0mTag\u001b[0m\u001b[0;34m)\u001b[0m\u001b[0;34m:\u001b[0m\u001b[0;34m\u001b[0m\u001b[0;34m\u001b[0m\u001b[0m\n\u001b[0m\u001b[1;32m     12\u001b[0m         print(\"\"\"TAG\n\u001b[1;32m     13\u001b[0m         \u001b[0mTAG\u001b[0m\u001b[0;34m\u001b[0m\u001b[0;34m\u001b[0m\u001b[0m\n",
      "\u001b[0;31mNameError\u001b[0m: name 'bs4' is not defined"
     ]
    }
   ],
   "source": [
    "url = 'https://www.hl7.org/fhir/resourcelist.html'\n",
    "r = requests.get(url)\n",
    "soup = BeautifulSoup(r.content, 'html.parser')\n",
    "table = BeautifulSoup(str(soup.find_all('table')))\n",
    "column_content = table.find_all(class_ = 'frm-contents')\n",
    "column_names = table.find_all(class_ = 'frm-group')\n",
    "\n",
    "#print(column_content[2].text)\n",
    "for resource in column_content[2]:\n",
    "    print(type(resource))\n",
    "    if isinstance(type(resource), beauti.element.Tag):\n",
    "        print(\"\"\"TAG\n",
    "        TAG\n",
    "        TAG\"\"\")\n",
    "    print(resource)\n",
    "    print(\"NEXT\")\n",
    "    print(\"\"\"\n",
    "    \"\"\")\n"
   ]
  },
  {
   "cell_type": "code",
   "execution_count": null,
   "metadata": {},
   "outputs": [],
   "source": []
  }
 ],
 "metadata": {
  "kernelspec": {
   "display_name": "Python 3",
   "language": "python",
   "name": "python3"
  },
  "language_info": {
   "codemirror_mode": {
    "name": "ipython",
    "version": 3
   },
   "file_extension": ".py",
   "mimetype": "text/x-python",
   "name": "python",
   "nbconvert_exporter": "python",
   "pygments_lexer": "ipython3",
   "version": "3.7.4"
  }
 },
 "nbformat": 4,
 "nbformat_minor": 2
}
